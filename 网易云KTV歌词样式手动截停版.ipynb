{
 "cells": [
  {
   "cell_type": "code",
   "execution_count": 2,
   "id": "4ce31b28-c7ea-4b57-a592-11df752d3187",
   "metadata": {},
   "outputs": [
    {
     "name": "stdout",
     "output_type": "stream",
     "text": [
      "📂 你选择了文件: E:/音乐制作/真夜中/剪辑视频/正片/出道前就活/ACAね弹唱-就活 - 副本.srt\n"
     ]
    },
    {
     "name": "stdin",
     "output_type": "stream",
     "text": [
      "请输入日语字幕的结束编号:  45\n",
      "请输入中文字幕的结束编号:  90\n"
     ]
    },
    {
     "name": "stdout",
     "output_type": "stream",
     "text": [
      "✅ 已完成！输出文件保存为: E:/音乐制作/真夜中/剪辑视频/正片/出道前就活\\output_shifted.srt\n",
      "📊 原始字幕总数: 90\n",
      "🈶 日语区间: 1 ~ 45，中文字幕区间: 46 ~ 90\n",
      "🆕 新增日语: 91 ~ 135，新增中文: 136 ~ 180\n"
     ]
    }
   ],
   "source": [
    "import tkinter as tk\n",
    "from tkinter import filedialog\n",
    "import os\n",
    "import re\n",
    "\n",
    "def parse_srt(content):\n",
    "    pattern = re.compile(r'(\\d+)\\n(.*?)\\n(.*?)\\n', re.DOTALL)\n",
    "    blocks = []\n",
    "    for match in pattern.finditer(content + \"\\n\"):\n",
    "        idx = int(match.group(1))\n",
    "        time = match.group(2).strip()\n",
    "        text = match.group(3).strip()\n",
    "        blocks.append((idx, time, text))\n",
    "    return blocks\n",
    "\n",
    "def build_srt(blocks):\n",
    "    return \"\\n\".join(f\"{idx}\\n{time}\\n{text}\\n\" for idx, time, text in blocks)\n",
    "\n",
    "def shift_blocks(blocks, start_idx, end_idx, new_start_idx):\n",
    "    \"\"\"生成新的平移字幕 (向前移一格，最后补空)\"\"\"\n",
    "    original = blocks[start_idx-1:end_idx]\n",
    "    shifted = []\n",
    "    for i in range(len(original)):\n",
    "        idx = new_start_idx + i\n",
    "        time = original[i][1]\n",
    "        text = original[i+1][2] if i+1 < len(original) else \"\"\n",
    "        shifted.append((idx, time, text))\n",
    "    return shifted\n",
    "\n",
    "def process_file(input_path, jp_end, cn_end):\n",
    "    with open(input_path, \"r\", encoding=\"utf-8\") as f:\n",
    "        content = f.read()\n",
    "    blocks = parse_srt(content)\n",
    "\n",
    "    total = len(blocks)\n",
    "\n",
    "    # 日语范围: 1 ~ jp_end\n",
    "    new_jp = shift_blocks(blocks, 1, jp_end, total + 1)\n",
    "\n",
    "    # 中文范围: (jp_end+1) ~ cn_end\n",
    "    new_cn = shift_blocks(blocks, jp_end + 1, cn_end, total + len(new_jp) + 1)\n",
    "\n",
    "    all_blocks = blocks + new_jp + new_cn\n",
    "    output = build_srt(all_blocks)\n",
    "\n",
    "    output_path = os.path.join(os.path.dirname(input_path), \"output_shifted.srt\")\n",
    "    with open(output_path, \"w\", encoding=\"utf-8\") as f:\n",
    "        f.write(output)\n",
    "\n",
    "    print(f\"✅ 已完成！输出文件保存为: {output_path}\")\n",
    "    print(f\"📊 原始字幕总数: {total}\")\n",
    "    print(f\"🈶 日语区间: 1 ~ {jp_end}，中文字幕区间: {jp_end+1} ~ {cn_end}\")\n",
    "    print(f\"🆕 新增日语: {total+1} ~ {total+len(new_jp)}，新增中文: {total+len(new_jp)+1} ~ {total+len(new_jp)+len(new_cn)}\")\n",
    "\n",
    "def select_and_process_file():\n",
    "    root = tk.Tk()\n",
    "    root.withdraw()\n",
    "    file_path = filedialog.askopenfilename(\n",
    "        title=\"请选择SRT字幕文件\",\n",
    "        filetypes=[(\"SRT 字幕文件\", \"*.srt\")]\n",
    "    )\n",
    "    if file_path:\n",
    "        print(f\"📂 你选择了文件: {file_path}\")\n",
    "\n",
    "        # 让用户输入区间\n",
    "        jp_end = int(input(\"请输入日语字幕的结束编号: \"))\n",
    "        cn_end = int(input(\"请输入中文字幕的结束编号: \"))\n",
    "\n",
    "        process_file(file_path, jp_end, cn_end)\n",
    "    else:\n",
    "        print(\"❌ 没有选择任何文件。\")\n",
    "\n",
    "select_and_process_file()\n"
   ]
  },
  {
   "cell_type": "code",
   "execution_count": null,
   "id": "230e4216-37a6-44f6-86d5-d92300a246a5",
   "metadata": {},
   "outputs": [],
   "source": []
  }
 ],
 "metadata": {
  "kernelspec": {
   "display_name": "Python 3 (ipykernel)",
   "language": "python",
   "name": "python3"
  },
  "language_info": {
   "codemirror_mode": {
    "name": "ipython",
    "version": 3
   },
   "file_extension": ".py",
   "mimetype": "text/x-python",
   "name": "python",
   "nbconvert_exporter": "python",
   "pygments_lexer": "ipython3",
   "version": "3.13.2"
  }
 },
 "nbformat": 4,
 "nbformat_minor": 5
}
