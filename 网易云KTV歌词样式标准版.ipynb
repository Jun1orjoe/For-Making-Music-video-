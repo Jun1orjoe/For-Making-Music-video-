{
 "cells": [
  {
   "cell_type": "markdown",
   "id": "28899a9e-c3fe-4469-bbf2-3e74b3786aa4",
   "metadata": {},
   "source": [
    "# 功能：模仿手机音乐播放或者KTV效果，能够看到下一句是什么，做的歌词SRT轴，直接将SRT导入进轴当中即可出现4段文本，包含了2段日文和2段中文，自由进行DIY"
   ]
  },
  {
   "cell_type": "markdown",
   "id": "d93328c5-8cb7-4606-a77e-3a4a93a6ff20",
   "metadata": {},
   "source": [
    "## Standard srt version ( Contain Japanese and Transalation in one Srt file） "
   ]
  
  {
   "cell_type": "code",
   "execution_count": 9,
   "id": "bf936302-bc36-43cf-9cf9-762cdc447eab",
   "metadata": {},
   "outputs": [
    {
     "name": "stdout",
     "output_type": "stream",
     "text": [
      "📂 你选择了文件: E:/音乐制作/真夜中/剪辑视频/正片/出道前就活/ACAね弹唱-就活.srt\n",
      "✅ 已完成！输出文件保存为: E:/音乐制作/真夜中/剪辑视频/正片/出道前就活\\output_shifted.srt\n",
      "📊 原始字幕总数: 90，日语部分: 1~45，中文字幕部分: 46~90\n",
      "🆕 新增日语: 91~135，新增中文: 136~180\n"
     ]
    }
   ],
   "source": [
    "import tkinter as tk\n",
    "from tkinter import filedialog\n",
    "import os\n",
    "import re\n",
    "\n",
    "def parse_srt(content):\n",
    "    pattern = re.compile(r'(\\d+)\\n(.*?)\\n(.*?)\\n', re.DOTALL)\n",
    "    blocks = []\n",
    "    for match in pattern.finditer(content + \"\\n\"):\n",
    "        idx = int(match.group(1))\n",
    "        time = match.group(2).strip()\n",
    "        text = match.group(3).strip()\n",
    "        blocks.append((idx, time, text))\n",
    "    return blocks\n",
    "\n",
    "def build_srt(blocks):\n",
    "    return \"\\n\".join(f\"{idx}\\n{time}\\n{text}\\n\" for idx, time, text in blocks)\n",
    "\n",
    "def shift_blocks(blocks, start_idx, end_idx, new_start_idx):\n",
    "    \"\"\"生成新的平移字幕 (向前移一格，最后补空)\"\"\"\n",
    "    original = blocks[start_idx-1:end_idx]\n",
    "    shifted = []\n",
    "    for i in range(len(original)):\n",
    "        idx = new_start_idx + i\n",
    "        time = original[i][1]\n",
    "        text = original[i+1][2] if i+1 < len(original) else \"\"\n",
    "        shifted.append((idx, time, text))\n",
    "    return shifted\n",
    "\n",
    "def process_file(input_path):\n",
    "    with open(input_path, \"r\", encoding=\"utf-8\") as f:\n",
    "        content = f.read()\n",
    "    blocks = parse_srt(content)\n",
    "\n",
    "    total = len(blocks)\n",
    "    half = total // 2  # 前半日语，后半中文\n",
    "\n",
    "    # 自动识别范围\n",
    "    new_jp = shift_blocks(blocks, 1, half, total + 1)\n",
    "    new_cn = shift_blocks(blocks, half + 1, total, total + half + 1)\n",
    "\n",
    "    all_blocks = blocks + new_jp + new_cn\n",
    "    output = build_srt(all_blocks)\n",
    "\n",
    "    output_path = os.path.join(os.path.dirname(input_path), \"output_shifted.srt\")\n",
    "    with open(output_path, \"w\", encoding=\"utf-8\") as f:\n",
    "        f.write(output)\n",
    "\n",
    "    print(f\"✅ 已完成！输出文件保存为: {output_path}\")\n",
    "    print(f\"📊 原始字幕总数: {total}，日语部分: 1~{half}，中文字幕部分: {half+1}~{total}\")\n",
    "    print(f\"🆕 新增日语: {total+1}~{total+half}，新增中文: {total+half+1}~{total*2}\")\n",
    "\n",
    "def select_and_process_file():\n",
    "    root = tk.Tk()\n",
    "    root.withdraw()\n",
    "    file_path = filedialog.askopenfilename(\n",
    "        title=\"请选择SRT字幕文件\",\n",
    "        filetypes=[(\"SRT 字幕文件\", \"*.srt\")]\n",
    "    )\n",
    "    if file_path:\n",
    "        print(f\"📂 你选择了文件: {file_path}\")\n",
    "        process_file(file_path)\n",
    "    else:\n",
    "        print(\"❌ 没有选择任何文件。\")\n",
    "\n",
    "select_and_process_file()\n"
   ]
  },
  {
   "cell_type": "code",
   "execution_count": null,
   "id": "555c0d49-c874-4707-a47e-e0982c52de51",
   "metadata": {},
   "outputs": [],
   "source": []
  },
  {
   "cell_type": "code",
   "execution_count": null,
   "id": "4b2cdb92-fae0-4765-9e23-98794a94e0b9",
   "metadata": {},
   "outputs": [],
   "source": []
  }
 ],
 "metadata": {
  "kernelspec": {
   "display_name": "Python 3 (ipykernel)",
   "language": "python",
   "name": "python3"
  },
  "language_info": {
   "codemirror_mode": {
    "name": "ipython",
    "version": 3
   },
   "file_extension": ".py",
   "mimetype": "text/x-python",
   "name": "python",
   "nbconvert_exporter": "python",
   "pygments_lexer": "ipython3",
   "version": "3.13.2"
  }
 },
 "nbformat": 4,
 "nbformat_minor": 5
}
